{
 "cells": [
  {
   "cell_type": "markdown",
   "metadata": {},
   "source": [
    "# Домашнее задание 1 [10 баллов]\n",
    "\n",
    "В этом домашнем задании вам потребуется написать генератор описание прогноза погода на следующую неделю.  В таблице ниже приведен прогноз трех показателей на ближайшую неделю – температуры, скорости ветра и уровня осадков. "
   ]
  },
  {
   "cell_type": "markdown",
   "metadata": {},
   "source": [
    "|                | 26.01 (пт) | 27.01 (сб) | 28.01 (вс)| 29.01 (пн) | 30.01 (вт) | 31.01 (ср) | 01.02 (чт) |\n",
    "|----------------|-------|-------|-------|-------|-------|-------|-------|\n",
    "| температура    | -3    | -5    | -5    | -3    | 0     | -8    | -1    |\n",
    "| скорость ветра | 11    | 13    | 11    | 10    | 10    | 11    | 10    |\n",
    "| уровень осадков         | 0.35  | 1.2   | 2.4   | 7.1   | 5.3   | 2.4   | 4.2   |"
   ]
  },
  {
   "cell_type": "markdown",
   "metadata": {},
   "source": [
    "Прогноз погоды должен состоять из следующих (или подобным им) предложений, генерируемых по шаблонам (ниже три шаблона):\n",
    "* В день1 похолодает / потеплеет на X градус (-а, -ов) по сравнению с день2\n",
    "    * В четверг потеплеет на 7 градусов по сравнению со средой\n",
    "* Скорость ветра изменится на X единиц в день1 по сравнению с день2.\n",
    "    * Скорость ветра изменится на 3 единицы в понедельник по сравнению с пятницей\n",
    "* Уровень осадков повысится / понизится на X единиц за Y дней. \n",
    "    * Уровень осадков понится на 3.85 единиц за 7 дней\n",
    "\n",
    "Можно использовать не только данные о прогнозе, но и любые другие числовые данные и соответствующие им шаблоны: данные о стоимости акций разных компаний, результаты спортивных соревнований, и др. "
   ]
  },
  {
   "cell_type": "markdown",
   "metadata": {},
   "source": [
    "Некоторые вспомогательные функции, которые вам понадобятся: согласование существительного с числительным и приведение существительного к нужному падежу: "
   ]
  },
  {
   "cell_type": "code",
   "execution_count": 4,
   "metadata": {
    "collapsed": false
   },
   "outputs": [
    {
     "name": "stdout",
     "output_type": "stream",
     "text": [
      "1 яблоко\n",
      "2 яблока\n",
      "3 яблок\n"
     ]
    }
   ],
   "source": [
    "import pymorphy2\n",
    "morph = pymorphy2.MorphAnalyzer()\n",
    "word = 'яблоко'\n",
    "parsed_word = morph.parse(word)[0]\n",
    "print(1, parsed_word.make_agree_with_number(1).word) # согласование слова с числительным 1\n",
    "print(2, parsed_word.make_agree_with_number(2).word) # согласование слова с числительным 2\n",
    "print(3, parsed_word.make_agree_with_number(5).word) # согласование слова с числительным 5"
   ]
  },
  {
   "cell_type": "code",
   "execution_count": 6,
   "metadata": {
    "collapsed": false
   },
   "outputs": [
    {
     "name": "stdout",
     "output_type": "stream",
     "text": [
      "яблока\n"
     ]
    }
   ],
   "source": [
    "print(parsed_word.inflect({'gent'}).word) # слово в родительном падеже"
   ]
  },
  {
   "cell_type": "markdown",
   "metadata": {},
   "source": [
    "Ниже приведен пример решения аналогичной задачи генерации текстов: генератор отчета о том, сколько и каких фруктов съел Вася."
   ]
  },
  {
   "cell_type": "code",
   "execution_count": 17,
   "metadata": {
    "collapsed": false
   },
   "outputs": [],
   "source": [
    "def eating(n, fruit):\n",
    "    parsed_word = morph.parse(fruit)[0]\n",
    "    s = ' '.join(['Вася съел', str(n) ,parsed_word.make_agree_with_number(n).word, '.'])\n",
    "    return s"
   ]
  },
  {
   "cell_type": "code",
   "execution_count": 18,
   "metadata": {
    "collapsed": false
   },
   "outputs": [
    {
     "data": {
      "text/plain": [
       "'Вася съел 5 яблок .'"
      ]
     },
     "execution_count": 18,
     "metadata": {},
     "output_type": "execute_result"
    }
   ],
   "source": [
    "eating(5, 'яблоко')"
   ]
  },
  {
   "cell_type": "code",
   "execution_count": 19,
   "metadata": {
    "collapsed": false
   },
   "outputs": [
    {
     "data": {
      "text/plain": [
       "'Вася съел 4 груши .'"
      ]
     },
     "execution_count": 19,
     "metadata": {},
     "output_type": "execute_result"
    }
   ],
   "source": [
    "eating(4, 'груша')"
   ]
  },
  {
   "cell_type": "markdown",
   "metadata": {},
   "source": [
    "Пример более сложного генератора: фрукты могут есть не только мальчики, но и девочки, то есть, нужно не только согласовать числительное с существительным, но и поставить глагол в нужную форму."
   ]
  },
  {
   "cell_type": "code",
   "execution_count": 27,
   "metadata": {
    "collapsed": true
   },
   "outputs": [],
   "source": [
    "def eating(name, n, fruit):\n",
    "    name_tag = morph.parse(name)[0].tag\n",
    "    if 'masc' in name_tag:\n",
    "        gender = 'masc'\n",
    "    if 'femn' in name_tag:\n",
    "        gender = 'femn'\n",
    "    verb = morph.parse(\"съесть\")[0].inflect({'perf', gender,'sing','past','indc'}).word\n",
    "    parsed_word = morph.parse(fruit)[0]\n",
    "    s = ' '.join([name, verb, str(n) ,parsed_word.make_agree_with_number(n).word, '.'])\n",
    "    return s"
   ]
  },
  {
   "cell_type": "code",
   "execution_count": 28,
   "metadata": {
    "collapsed": false
   },
   "outputs": [
    {
     "data": {
      "text/plain": [
       "'Маша съела 3 вишни .'"
      ]
     },
     "execution_count": 28,
     "metadata": {},
     "output_type": "execute_result"
    }
   ],
   "source": [
    "eating('Маша', 3, 'вишня')"
   ]
  },
  {
   "cell_type": "markdown",
   "metadata": {},
   "source": [
    "## Сдача домашнего задания\n",
    "\n",
    "Делайн выполнения домашнего задания: 23:59 02.02.2018. Результаты домашнего задания должны быть оформлены в виде jupyter notebook или скрипта на python + короткого отчета. Не забудьте указать ваше имя и фамилию, а так же электронный адрес для комментариев по выполненому домашнему заданию.\n",
    "\n",
    "Все вычисления и результаты должны быть прокомментированы и описаны: что вы делаете и почему. При проверке домашнего задания будет оцениваться полнота и корректность его выполнения. \n",
    "\n",
    "Выполненные домашние задания поместите в папку dropbox: https://www.dropbox.com/sh/946kzhk9373xlqs/AACqgA3IUuzcqJeuHqt6ZCdMa?dl=0"
   ]
  },
  {
   "cell_type": "code",
   "execution_count": null,
   "metadata": {
    "collapsed": true
   },
   "outputs": [],
   "source": []
  }
 ],
 "metadata": {
  "kernelspec": {
   "display_name": "Python 3",
   "language": "python",
   "name": "python3"
  },
  "language_info": {
   "codemirror_mode": {
    "name": "ipython",
    "version": 3
   },
   "file_extension": ".py",
   "mimetype": "text/x-python",
   "name": "python",
   "nbconvert_exporter": "python",
   "pygments_lexer": "ipython3",
   "version": "3.6.0"
  }
 },
 "nbformat": 4,
 "nbformat_minor": 2
}
